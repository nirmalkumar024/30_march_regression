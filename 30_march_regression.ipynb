{
 "cells": [
  {
   "cell_type": "markdown",
   "id": "5e603d0b-8a92-402c-8d7b-bbb9b9777af6",
   "metadata": {},
   "source": [
    "Q1.What is Elastic Net Regression and how does it differ from other regression techniques?"
   ]
  },
  {
   "cell_type": "markdown",
   "id": "08b9bd2e-0154-4827-9a68-60e7927ed9a8",
   "metadata": {},
   "source": [
    " Elastic net linear regression uses the penalties from both the lasso and ridge techniques to regularize regression models. The technique combines both the lasso and ridge regression methods by learning from their shortcomings to improve the regularization of statistical models,it hybrid of lasso and ridge techiques and it perform both of of techiques."
   ]
  },
  {
   "cell_type": "markdown",
   "id": "6dbc2c9a-6951-4ef4-b514-4f85e583b309",
   "metadata": {},
   "source": [
    "Q2. How do you choose the optimal values of the regularization parameters for Elastic Net Regression?"
   ]
  },
  {
   "cell_type": "markdown",
   "id": "35a015a1-1d16-44ac-8d5e-f8c3c8e0721b",
   "metadata": {},
   "source": [
    "It is based on the data outcome and obervation it it is smaller then it is not able to prediction, only when there have dependent feature data which mean lasso and ridge feature both define in the data set, the it will happen to choose the optimal values."
   ]
  },
  {
   "cell_type": "markdown",
   "id": "c90a5d84-90cd-4364-8785-de9cac6eea12",
   "metadata": {},
   "source": [
    "Q3. What are the advantages and disadvantages of Elastic Net Regression?"
   ]
  },
  {
   "cell_type": "markdown",
   "id": "e171d2c0-d4b1-450f-9c41-5f21d92abd34",
   "metadata": {},
   "source": [
    "elastic net is that it can handle multicollinearity, which is when some predictors are highly correlated with each other. Lasso can suffer from instability and inconsistency when there is multicollinearity, as it may arbitrarily select one predictor over another.\n",
    "\n",
    "It may not perform optimally when there is no correlation between features or when the number of features is much smaller than the number of observations, as it may lose predictive power."
   ]
  },
  {
   "cell_type": "markdown",
   "id": "2f458bf4-ec04-4a82-89e1-a3312a7264de",
   "metadata": {},
   "source": [
    "Q4. What are some common use cases for Elastic Net Regression?"
   ]
  },
  {
   "cell_type": "markdown",
   "id": "8a94f70e-1d5a-4b40-bfd1-3c485391f5d6",
   "metadata": {},
   "source": [
    "Elastic Net Regression are common uses cases are Support vector machine. Metric learning. Portfolio optimization."
   ]
  },
  {
   "cell_type": "markdown",
   "id": "0da1ff77-b2ac-480e-92d4-6c805bf69041",
   "metadata": {},
   "source": [
    "Q5. How do you interpret the coefficients in Elastic Net Regression?"
   ]
  },
  {
   "cell_type": "markdown",
   "id": "4d3948c9-7a6b-4781-a855-ea1931e18e61",
   "metadata": {},
   "source": [
    "The coefficients of elastic net regression represent the linear relationship between the features and the target variable."
   ]
  },
  {
   "cell_type": "markdown",
   "id": "31cc89ab-7a76-471a-9b7f-6863af5ffaa8",
   "metadata": {},
   "source": [
    "Q6. How do you handle missing values when using Elastic Net Regression?"
   ]
  },
  {
   "cell_type": "markdown",
   "id": "c5ab6547-d9b3-40df-88eb-19e5c42a9c7b",
   "metadata": {},
   "source": [
    "It is mearge with the smallest value of the data, according to the bestfit line and overfiting the model."
   ]
  },
  {
   "cell_type": "markdown",
   "id": "0e4ff8c9-e9f7-40da-bf0d-dceef6383b19",
   "metadata": {},
   "source": [
    "Q7. How do you use Elastic Net Regression for feature selection?"
   ]
  },
  {
   "cell_type": "markdown",
   "id": "d1a9a476-5027-42cb-bf5f-91b31faf97b1",
   "metadata": {},
   "source": [
    "Feature selection is the depend of the data, and moduling of it elastic net regression is the hybrid of the lasso and ridge regression and it is help to choose the feature that are belong to both regression."
   ]
  },
  {
   "cell_type": "markdown",
   "id": "18b4acd1-d75c-4b0e-977d-c63de4f812c9",
   "metadata": {},
   "source": [
    "Q8. How do you pickle and unpickle a trained Elastic Net Regression model in Python?"
   ]
  },
  {
   "cell_type": "markdown",
   "id": "ad47cdb0-a39f-42d0-b995-4264ff32dc74",
   "metadata": {},
   "source": [
    "Using pickle , simply save your model on disc with dump() function and de-pickle it into your python code with load() function. Use open() function to create and/or read from a . pkl file and make sure you open the file in the binary format by wb for write and rb for read mode."
   ]
  },
  {
   "cell_type": "markdown",
   "id": "1211b800-9a26-43de-8b48-63d262bf24f3",
   "metadata": {},
   "source": [
    "Q9. What is the purpose of pickling a model in machine learning?"
   ]
  },
  {
   "cell_type": "markdown",
   "id": "ec07c979-396b-4349-ad11-1ed0fc7a5ba9",
   "metadata": {},
   "source": [
    "The pickle module keeps track of the objects it has already serialized, so that later references to the same object won't be serialized again, thus allowing for faster execution time. Allows saving model in very little time."
   ]
  }
 ],
 "metadata": {
  "kernelspec": {
   "display_name": "Python 3 (ipykernel)",
   "language": "python",
   "name": "python3"
  },
  "language_info": {
   "codemirror_mode": {
    "name": "ipython",
    "version": 3
   },
   "file_extension": ".py",
   "mimetype": "text/x-python",
   "name": "python",
   "nbconvert_exporter": "python",
   "pygments_lexer": "ipython3",
   "version": "3.10.8"
  }
 },
 "nbformat": 4,
 "nbformat_minor": 5
}
